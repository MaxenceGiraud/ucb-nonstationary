{
 "metadata": {
  "language_info": {
   "codemirror_mode": {
    "name": "ipython",
    "version": 3
   },
   "file_extension": ".py",
   "mimetype": "text/x-python",
   "name": "python",
   "nbconvert_exporter": "python",
   "pygments_lexer": "ipython3",
   "version": "3.7.5-final"
  },
  "orig_nbformat": 2,
  "kernelspec": {
   "name": "python3",
   "display_name": "Python 3"
  }
 },
 "nbformat": 4,
 "nbformat_minor": 2,
 "cells": [
  {
   "cell_type": "code",
   "execution_count": null,
   "metadata": {},
   "outputs": [],
   "source": [
    "import nsucb\n",
    "from bandit_env import *"
   ]
  },
  {
   "cell_type": "code",
   "execution_count": null,
   "metadata": {},
   "outputs": [],
   "source": [
    "# Algorithms\n",
    "d= nsucb.DiscountedUCB(3)\n",
    "sw= nsucb.SlidingUCB(3,100,1,1)\n",
    "swu = nsucb.SlidingUCB_uniform_discount(3,100,1,1)"
   ]
  },
  {
   "source": [
    "## Abruptly Changing env"
   ],
   "cell_type": "markdown",
   "metadata": {}
  },
  {
   "cell_type": "code",
   "execution_count": null,
   "metadata": {},
   "outputs": [],
   "source": [
    "# Arms sequence\n",
    "def arm_f(t):\n",
    "    arms = [Gaussian(0.2),Gaussian(0.4),Gaussian(0.7)]\n",
    "    if t> 300 and t<500 :\n",
    "        arms[1] = Gaussian(1)\n",
    "    return arms \n",
    "\n",
    "a= MAB_NS(3,arm_f)"
   ]
  },
  {
   "cell_type": "code",
   "execution_count": null,
   "metadata": {},
   "outputs": [],
   "source": [
    "RunExpes([d,sw,swu],a,30,1000)"
   ]
  },
  {
   "cell_type": "code",
   "execution_count": null,
   "metadata": {},
   "outputs": [],
   "source": [
    "# More abrupt\n",
    "def arm_f(t):\n",
    "    arms = [Gaussian(0.2),Gaussian(0.4),Gaussian(0.7)]\n",
    "    if t> 300 and t<500 :\n",
    "        arms[1] = Gaussian(1.5)\n",
    "    return arms \n",
    "\n",
    "a= MAB_NS(3,arm_f)\n",
    "\n",
    "RunExpes([d,sw,swu],a,30,1000)"
   ]
  },
  {
   "source": [
    "## Continuously changing env"
   ],
   "cell_type": "markdown",
   "metadata": {}
  },
  {
   "cell_type": "code",
   "execution_count": null,
   "metadata": {},
   "outputs": [],
   "source": [
    "# More abrupt\n",
    "def arm_f(t):\n",
    "    arms = [Gaussian(0.2),Gaussian(0.4+t/1000),Gaussian(0.7)]\n",
    "    return arms \n",
    "\n",
    "a= MAB_NS(3,arm_f)\n",
    "\n",
    "RunExpes([d,sw,swu],a,30,1000)"
   ]
  }
 ]
}